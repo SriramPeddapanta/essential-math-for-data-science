{
 "cells": [
  {
   "cell_type": "code",
   "execution_count": 1,
   "id": "95faca81-24e7-4be2-98bc-cb22a06b7f36",
   "metadata": {},
   "outputs": [
    {
     "name": "stdout",
     "output_type": "stream",
     "text": [
      "0.06538461538461539\n"
     ]
    }
   ],
   "source": [
    "# Using Baye's Theorem in Python\n",
    "\n",
    "p_coffee_drinker = 0.65\n",
    "p_cancer = 0.05\n",
    "p_coffee_drinker_given_cancer = 0.85\n",
    "\n",
    "p_cancer_given_coffee_drinker = p_coffee_drinker_given_cancer * (p_cancer / p_coffee_drinker)\n",
    "\n",
    "print(p_cancer_given_coffee_drinker)"
   ]
  },
  {
   "cell_type": "code",
   "execution_count": 2,
   "id": "453848ec-a3f9-4b57-ba10-bdeca4641fd5",
   "metadata": {},
   "outputs": [
    {
     "name": "stdout",
     "output_type": "stream",
     "text": [
      "0 - 0.000000000100\n",
      "1 - 0.000000009000\n",
      "2 - 0.000000364500\n",
      "3 - 0.000008748000\n",
      "4 - 0.000137781000\n",
      "5 - 0.001488034800\n",
      "6 - 0.011160261000\n",
      "7 - 0.057395628000\n",
      "8 - 0.193710244500\n",
      "9 - 0.387420489000\n",
      "10 - 0.348678440100\n",
      "Probability of 8 or fewer: 0.26390107089999976\n"
     ]
    }
   ],
   "source": [
    "# Using SciPy for the binomial distribution\n",
    "\n",
    "from scipy.stats import binom\n",
    "\n",
    "n = 10 # trials\n",
    "p = 0.9 # probability of sucess\n",
    "sum_8_or_fewer = 0 # probability of eight or fewer successes\n",
    "\n",
    "for k in range(n + 1):\n",
    "    # pmf - Probability Mass Function\n",
    "    probability = binom.pmf(k, n, p) # Probability of 'k' successes out of 'n' trials given 'p' probability of a success\n",
    "    print(f\"{k} - {probability:.12f}\")\n",
    "    if(k <= 8):\n",
    "        sum_8_or_fewer += probability\n",
    "\n",
    "print(f\"Probability of 8 or fewer: {sum_8_or_fewer}\")"
   ]
  },
  {
   "cell_type": "code",
   "execution_count": 3,
   "id": "b32f660b-6ac8-4c91-94c8-394348aafaf6",
   "metadata": {},
   "outputs": [
    {
     "name": "stdout",
     "output_type": "stream",
     "text": [
      "0.7748409780000002\n",
      "0.22515902199999982\n",
      "0.43620761600000024\n",
      "0.33863336199999994\n"
     ]
    }
   ],
   "source": [
    "# Beta distribution using SciPy\n",
    "\n",
    "from scipy.stats import beta\n",
    "\n",
    "# Likelihood of 8/10 successes\n",
    "a = 8 # number of successes\n",
    "b = 2 # number of failures\n",
    "x_90 = 0.90\n",
    "x_80 = 0.80\n",
    "\n",
    "# Cumulative Density Function\n",
    "p_90_or_less = beta.cdf(x_90, a, b) # probability of success 90% or less\n",
    "p_80_or_less = beta.cdf(x_80, a, b) # probability of success 80% or less\n",
    "p_90_or_more = 1 - p_90_or_less # probability of success 90% or more\n",
    "p_between_80_90 = p_90_or_less - p_80_or_less # probability of success between 80% and 90%\n",
    "\n",
    "print(p_90_or_less)\n",
    "print(p_90_or_more)\n",
    "print(p_80_or_less)\n",
    "print(p_between_80_90)"
   ]
  },
  {
   "cell_type": "code",
   "execution_count": 4,
   "id": "d62a2bb9-3dfd-452c-91fb-e0fe4a3a9496",
   "metadata": {},
   "outputs": [
    {
     "name": "stdout",
     "output_type": "stream",
     "text": [
      "Probability of 50 or more not showing up: 0.8220955881474251\n"
     ]
    }
   ],
   "source": [
    "# You have 137 passengers booked on a flight from Las Vegas to Dallas. However, it is Las Vegas on a Sunday morning and you estimate each passenger is 40% likely to not show up. You are trying to figure out how many seats to overbook so the plane does not fly empty. How likely is it at least 50 passengers will not show up?\n",
    "\n",
    "from scipy.stats import binom\n",
    "\n",
    "n = 137 # passengers\n",
    "p = 0.4 # probability of not showing up\n",
    "sum_50_or_more = 0 # probability of 50 or more not showing up\n",
    "\n",
    "for k in range(n + 1):\n",
    "    # pmf - Probability Mass Function\n",
    "    probability = binom.pmf(k, n, p) # Probability of 'k' successes out of 'n' trials given 'p' probability of a success\n",
    "    # print(f\"{k} - {probability:.12f}\")\n",
    "    if(k >= 50):\n",
    "        sum_50_or_more += probability\n",
    "\n",
    "print(f\"Probability of 50 or more not showing up: {sum_50_or_more}\")"
   ]
  },
  {
   "cell_type": "code",
   "execution_count": 5,
   "id": "a878bf38-5310-4a16-9d36-d8874db5b94c",
   "metadata": {},
   "outputs": [
    {
     "name": "stdout",
     "output_type": "stream",
     "text": [
      "0.01953125\n",
      "0.98046875\n"
     ]
    }
   ],
   "source": [
    "# You flipped a coin 10 times and got heads 8 times and tails 2 times. Do you think this coin has any good probability of being fair? Why or why not?\n",
    "\n",
    "from scipy.stats import beta\n",
    "\n",
    "a = 8 # number of heads\n",
    "b = 2 # number of tails\n",
    "x_50 = 0.50\n",
    "\n",
    "# Cumulative Density Function\n",
    "p_50_or_less = beta.cdf(x_50, a, b) # probability of heads 50% or less\n",
    "p_50_or_more = 1 - p_50_or_less # probability of heads 50% or more\n",
    "\n",
    "print(p_50_or_less)\n",
    "print(p_50_or_more)"
   ]
  }
 ],
 "metadata": {
  "kernelspec": {
   "display_name": "Python 3 (ipykernel)",
   "language": "python",
   "name": "python3"
  },
  "language_info": {
   "codemirror_mode": {
    "name": "ipython",
    "version": 3
   },
   "file_extension": ".py",
   "mimetype": "text/x-python",
   "name": "python",
   "nbconvert_exporter": "python",
   "pygments_lexer": "ipython3",
   "version": "3.12.9"
  }
 },
 "nbformat": 4,
 "nbformat_minor": 5
}
